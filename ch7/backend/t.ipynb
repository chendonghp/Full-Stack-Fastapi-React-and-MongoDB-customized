{
 "cells": [
  {
   "cell_type": "code",
   "execution_count": 1,
   "metadata": {},
   "outputs": [],
   "source": [
    "import sys"
   ]
  },
  {
   "cell_type": "code",
   "execution_count": 4,
   "metadata": {},
   "outputs": [
    {
     "name": "stdout",
     "output_type": "stream",
     "text": [
      "0:--c:\\Users\\ddd\\Full-Stack-FastAPI-React-and-MongoDB\\chapter7\\backend\n",
      "1:--c:\\Users\\ddd\\anaconda3\\envs\\fastapi\\python310.zip\n",
      "2:--c:\\Users\\ddd\\anaconda3\\envs\\fastapi\\DLLs\n",
      "3:--c:\\Users\\ddd\\anaconda3\\envs\\fastapi\\lib\n",
      "4:--c:\\Users\\ddd\\anaconda3\\envs\\fastapi\n",
      "5:--\n",
      "6:--c:\\Users\\ddd\\anaconda3\\envs\\fastapi\\lib\\site-packages\n",
      "7:--c:\\Users\\ddd\\anaconda3\\envs\\fastapi\\lib\\site-packages\\win32\n",
      "8:--c:\\Users\\ddd\\anaconda3\\envs\\fastapi\\lib\\site-packages\\win32\\lib\n",
      "9:--c:\\Users\\ddd\\anaconda3\\envs\\fastapi\\lib\\site-packages\\Pythonwin\n"
     ]
    }
   ],
   "source": [
    "for i, p in enumerate(sys.path):\n",
    "    print(f'{i}:--{p}')"
   ]
  },
  {
   "cell_type": "code",
   "execution_count": null,
   "metadata": {},
   "outputs": [],
   "source": []
  }
 ],
 "metadata": {
  "kernelspec": {
   "display_name": "fastapi",
   "language": "python",
   "name": "python3"
  },
  "language_info": {
   "codemirror_mode": {
    "name": "ipython",
    "version": 3
   },
   "file_extension": ".py",
   "mimetype": "text/x-python",
   "name": "python",
   "nbconvert_exporter": "python",
   "pygments_lexer": "ipython3",
   "version": "3.10.11"
  },
  "orig_nbformat": 4
 },
 "nbformat": 4,
 "nbformat_minor": 2
}
